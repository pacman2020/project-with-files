{
 "cells": [
  {
   "cell_type": "code",
   "execution_count": 19,
   "metadata": {},
   "outputs": [],
   "source": [
    "import os\n",
    "\n",
    "def create_new_file(name_file):\n",
    "    try:\n",
    "        file = open(name_file, mode='x')\n",
    "        print('file new created')\n",
    "        file.close()\n",
    "    except:\n",
    "        print('file exist')\n",
    "\n",
    "def write_line(name_file, text):\n",
    "    file = open(name_file, mode='a')\n",
    "    file.write(' '+text)\n",
    "    file.close()\n",
    "\n",
    "def write_new_line(name_file, text):\n",
    "    file = open(name_file, mode='a')\n",
    "    file.write('\\n'+text)\n",
    "    file.close()\n",
    "\n",
    "def delete_file(name_file):\n",
    "    name_file_f = name_file\n",
    "    os.remove(name_file)\n",
    "    print(f'arquivo {name_file_f} deletado')\n",
    "\n"
   ]
  },
  {
   "cell_type": "code",
   "execution_count": 20,
   "metadata": {},
   "outputs": [
    {
     "name": "stdout",
     "output_type": "stream",
     "text": [
      "arquivo 04.txt deletado\n"
     ]
    }
   ],
   "source": [
    "# create_new_file('04.txt')\n",
    "# write_new_line('02.txt', 'new day')\n",
    "# write_line('02.txt', 'new line today now')\n",
    "# delete_file('04.txt')"
   ]
  }
 ],
 "metadata": {
  "interpreter": {
   "hash": "ab7301f6202822e92d5541cb62d03f6a83cd55596034869f595d488d3e652695"
  },
  "kernelspec": {
   "display_name": "Python 3.10.2 ('env': venv)",
   "language": "python",
   "name": "python3"
  },
  "language_info": {
   "codemirror_mode": {
    "name": "ipython",
    "version": 3
   },
   "file_extension": ".py",
   "mimetype": "text/x-python",
   "name": "python",
   "nbconvert_exporter": "python",
   "pygments_lexer": "ipython3",
   "version": "3.10.2"
  },
  "orig_nbformat": 4
 },
 "nbformat": 4,
 "nbformat_minor": 2
}

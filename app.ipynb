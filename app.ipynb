{
 "cells": [
  {
   "cell_type": "code",
   "execution_count": null,
   "metadata": {},
   "outputs": [],
   "source": [
    "class NewFile(object):\n",
    "    def __init__(self):\n",
    "        pass\n",
    "\n",
    "    def create_new_file(self, name_file):\n",
    "        file = open(name_file, mode='w+')\n",
    "        file.close()"
   ]
  },
  {
   "cell_type": "code",
   "execution_count": null,
   "metadata": {},
   "outputs": [],
   "source": [
    "file_01 = NewFile()\n",
    "file_01.create_new_file('01.txt')"
   ]
  }
 ],
 "metadata": {
  "interpreter": {
   "hash": "ab7301f6202822e92d5541cb62d03f6a83cd55596034869f595d488d3e652695"
  },
  "kernelspec": {
   "display_name": "Python 3.10.2 ('env': venv)",
   "language": "python",
   "name": "python3"
  },
  "language_info": {
   "codemirror_mode": {
    "name": "ipython",
    "version": 3
   },
   "file_extension": ".py",
   "mimetype": "text/x-python",
   "name": "python",
   "nbconvert_exporter": "python",
   "pygments_lexer": "ipython3",
   "version": "3.10.2"
  },
  "orig_nbformat": 4
 },
 "nbformat": 4,
 "nbformat_minor": 2
}

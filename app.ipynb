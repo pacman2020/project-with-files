{
 "cells": [
  {
   "cell_type": "code",
   "execution_count": 22,
   "metadata": {},
   "outputs": [],
   "source": [
    "class NewFile(object):\n",
    "    def __init__(self):\n",
    "        pass\n",
    "\n",
    "    def create_new_file(self, name_file):\n",
    "        try:\n",
    "            file = open(name_file, mode='x')\n",
    "            print('file new created')\n",
    "            file.close()\n",
    "        except:\n",
    "            print('file exist')\n",
    "\n",
    "    def write_line(self, name_file, text):\n",
    "        file = open(name_file, mode='a')\n",
    "        file.write(' '+text)\n",
    "        file.close()\n",
    "\n",
    "    def write_new_line(self, name_file, text):\n",
    "        file = open(name_file, mode='a')\n",
    "        file.write('\\n'+text)\n",
    "        file.close()"
   ]
  },
  {
   "cell_type": "code",
   "execution_count": 25,
   "metadata": {},
   "outputs": [
    {
     "name": "stdout",
     "output_type": "stream",
     "text": [
      "file exist\n"
     ]
    }
   ],
   "source": [
    "file_01 = NewFile()\n",
    "file_01.create_new_file('01.txt')\n",
    "# file_01.write_new_line('01.txt', 'today now')\n",
    "file_01.write_line('01.txt', 'new line today now')"
   ]
  }
 ],
 "metadata": {
  "interpreter": {
   "hash": "ab7301f6202822e92d5541cb62d03f6a83cd55596034869f595d488d3e652695"
  },
  "kernelspec": {
   "display_name": "Python 3.10.2 ('env': venv)",
   "language": "python",
   "name": "python3"
  },
  "language_info": {
   "codemirror_mode": {
    "name": "ipython",
    "version": 3
   },
   "file_extension": ".py",
   "mimetype": "text/x-python",
   "name": "python",
   "nbconvert_exporter": "python",
   "pygments_lexer": "ipython3",
   "version": "3.10.2"
  },
  "orig_nbformat": 4
 },
 "nbformat": 4,
 "nbformat_minor": 2
}
